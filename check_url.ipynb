{
 "cells": [
  {
   "cell_type": "markdown",
   "metadata": {},
   "source": [
    "Import Required Library\n",
    "This cell imports the requests library, which is used for making HTTP requests in Python. It's essential for checking the accessibility of URLs."
   ]
  },
  {
   "cell_type": "code",
   "execution_count": null,
   "metadata": {},
   "outputs": [],
   "source": [
    "import requests"
   ]
  },
  {
   "cell_type": "markdown",
   "metadata": {},
   "source": [
    "Define URL Checking Function\n",
    "Here, we define the function check_urls. This function takes a list of URLs and checks each one to see if it's accessible, returning the results in a dictionary."
   ]
  },
  {
   "cell_type": "code",
   "execution_count": null,
   "metadata": {},
   "outputs": [],
   "source": [
    "def check_urls(url_list):\n",
    "    results = {}\n",
    "\n",
    "    for url in url_list:\n",
    "        try:\n",
    "            response = requests.get(url)\n",
    "            if response.status_code == 200:\n",
    "                results[url] = \"Accessible\"\n",
    "            else:\n",
    "                results[url] = f\"Error: {response.status_code}\"\n",
    "        except requests.exceptions.RequestException as e:\n",
    "            results[url] = f\"Error: {str(e)}\"\n",
    "    \n",
    "    return results"
   ]
  },
  {
   "cell_type": "markdown",
   "metadata": {},
   "source": [
    "List of URLs and Execution of URL Check\n",
    "This cell contains a list of URLs to be checked and calls the check_urls function to check their accessibility."
   ]
  },
  {
   "cell_type": "code",
   "execution_count": null,
   "metadata": {},
   "outputs": [],
   "source": [
    "urls = [\"http://google.com\", \"http://adamalorna.com\", \"http://fake3544877363.com\"]\n",
    "results = check_urls(urls)"
   ]
  }
 ],
 "metadata": {
  "kernelspec": {
   "display_name": "Python 3",
   "language": "python",
   "name": "python3"
  },
  "language_info": {
   "codemirror_mode": {
    "name": "ipython",
    "version": 3
   },
   "file_extension": ".py",
   "mimetype": "text/x-python",
   "name": "python",
   "nbconvert_exporter": "python",
   "pygments_lexer": "ipython3",
   "version": "3.9.6"
  }
 },
 "nbformat": 4,
 "nbformat_minor": 2
}
